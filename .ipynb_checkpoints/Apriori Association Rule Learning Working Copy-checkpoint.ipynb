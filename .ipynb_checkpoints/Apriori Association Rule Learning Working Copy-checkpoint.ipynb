{
 "cells": [
  {
   "cell_type": "markdown",
   "metadata": {
    "id": "Z-jZGC0q0aiY"
   },
   "source": [
    "# Apriori"
   ]
  },
  {
   "cell_type": "markdown",
   "metadata": {
    "id": "jE4Rc_OO0eJM"
   },
   "source": [
    "## Importing libraries"
   ]
  },
  {
   "cell_type": "code",
   "execution_count": 1,
   "metadata": {
    "colab": {
     "base_uri": "https://localhost:8080/"
    },
    "executionInfo": {
     "elapsed": 5566,
     "status": "ok",
     "timestamp": 1612777079064,
     "user": {
      "displayName": "Atulya Kaushik",
      "photoUrl": "https://lh3.googleusercontent.com/a-/AOh14GiGoMUld1WAL2QrfDVmi5WsaLDOwcyV2a_qA-mbNufLTn0UKvJ-dJUeJOaQ9LIV8V7rWjmnBiUSXCtUC3nTZ_uAPaJ9bY_3J36kZzKiSicOgNeKSNas6VUdB7gKnZ_SdQF612sufyOJEw8R_3XNy3_XB4W03rbqxPO2lVHkcT00Vd32jA6GVkNa_zoEcfC2gKJt_pJp9DaVDwyFyktGS0BYBtCVsZ5A4DJECYn5F7e94WdOgH3IfOvtaNJXaDLJwE04oDqRa6WwEuK-TbLCtvIwS3kBfi1zd8P-9oG4Yc_zeuY18J7BMLwKPQYGcY09uhkaS122UT01KK1gCjHi0Uq-FtWGV0L7_dVlzb8Llg_09O0S9fg0Og4OiXeQTCUHo9R-HMfOkYNzcMR_EpG0pQjGnCVj-0bsDVLnZPqXSDxncDW3SefetXwLVak86_McNZlbES3CRiRQZELYDGpO9AYWgL_eR0iAlg-8LwZWUjz38AIdv3mHOKZs_4XK0ZQbMP1pUkeAw2OPAqPriOuofJVdd_7sj6lg5QWIxJRTdBfm12f8rKpSwHpE5x3IoS7uMazE2V3lf6nhEeBs2B4Hf0E_EjcGZL0fsgt-FwuLSjMRiksEgnwdyI1yNuE5_KR_h-rmjIHhdSPc1E9BsFYDBcQtpAjJ5Q6WYZABtuFWBRomtEPndHsAx7K0deGtCRzrZPBQ70rN57PbFs_XMZPREdqUjXRkxleuB6NOGGFRY5-TwNGRrEfsmThxCU2XDag1TL0D-w=s64",
      "userId": "16390917540151948122"
     },
     "user_tz": -330
    },
    "id": "KHWw-m3csxCD",
    "outputId": "19e4272b-5693-468f-f1a9-ecaccd4e8be1"
   },
   "outputs": [
    {
     "name": "stdout",
     "output_type": "stream",
     "text": [
      "Requirement already satisfied: apyori in /home/student/anaconda3/lib/python3.9/site-packages (1.1.2)\n",
      "Note: you may need to restart the kernel to use updated packages.\n"
     ]
    }
   ],
   "source": [
    "pip install apyori"
   ]
  },
  {
   "cell_type": "code",
   "execution_count": 2,
   "metadata": {
    "executionInfo": {
     "elapsed": 1006,
     "status": "ok",
     "timestamp": 1612777080893,
     "user": {
      "displayName": "Atulya Kaushik",
      "photoUrl": "https://lh3.googleusercontent.com/a-/AOh14GiGoMUld1WAL2QrfDVmi5WsaLDOwcyV2a_qA-mbNufLTn0UKvJ-dJUeJOaQ9LIV8V7rWjmnBiUSXCtUC3nTZ_uAPaJ9bY_3J36kZzKiSicOgNeKSNas6VUdB7gKnZ_SdQF612sufyOJEw8R_3XNy3_XB4W03rbqxPO2lVHkcT00Vd32jA6GVkNa_zoEcfC2gKJt_pJp9DaVDwyFyktGS0BYBtCVsZ5A4DJECYn5F7e94WdOgH3IfOvtaNJXaDLJwE04oDqRa6WwEuK-TbLCtvIwS3kBfi1zd8P-9oG4Yc_zeuY18J7BMLwKPQYGcY09uhkaS122UT01KK1gCjHi0Uq-FtWGV0L7_dVlzb8Llg_09O0S9fg0Og4OiXeQTCUHo9R-HMfOkYNzcMR_EpG0pQjGnCVj-0bsDVLnZPqXSDxncDW3SefetXwLVak86_McNZlbES3CRiRQZELYDGpO9AYWgL_eR0iAlg-8LwZWUjz38AIdv3mHOKZs_4XK0ZQbMP1pUkeAw2OPAqPriOuofJVdd_7sj6lg5QWIxJRTdBfm12f8rKpSwHpE5x3IoS7uMazE2V3lf6nhEeBs2B4Hf0E_EjcGZL0fsgt-FwuLSjMRiksEgnwdyI1yNuE5_KR_h-rmjIHhdSPc1E9BsFYDBcQtpAjJ5Q6WYZABtuFWBRomtEPndHsAx7K0deGtCRzrZPBQ70rN57PbFs_XMZPREdqUjXRkxleuB6NOGGFRY5-TwNGRrEfsmThxCU2XDag1TL0D-w=s64",
      "userId": "16390917540151948122"
     },
     "user_tz": -330
    },
    "id": "PTBjYh8iyvVK"
   },
   "outputs": [],
   "source": [
    "import numpy as np\n",
    "import matplotlib.pyplot as plt\n",
    "import pandas as pd"
   ]
  },
  {
   "cell_type": "markdown",
   "metadata": {
    "id": "A9-xGHd20gY1"
   },
   "source": [
    "## Importing dataset"
   ]
  },
  {
   "cell_type": "code",
   "execution_count": 4,
   "metadata": {
    "executionInfo": {
     "elapsed": 2009,
     "status": "ok",
     "timestamp": 1612777085042,
     "user": {
      "displayName": "Atulya Kaushik",
      "photoUrl": "https://lh3.googleusercontent.com/a-/AOh14GiGoMUld1WAL2QrfDVmi5WsaLDOwcyV2a_qA-mbNufLTn0UKvJ-dJUeJOaQ9LIV8V7rWjmnBiUSXCtUC3nTZ_uAPaJ9bY_3J36kZzKiSicOgNeKSNas6VUdB7gKnZ_SdQF612sufyOJEw8R_3XNy3_XB4W03rbqxPO2lVHkcT00Vd32jA6GVkNa_zoEcfC2gKJt_pJp9DaVDwyFyktGS0BYBtCVsZ5A4DJECYn5F7e94WdOgH3IfOvtaNJXaDLJwE04oDqRa6WwEuK-TbLCtvIwS3kBfi1zd8P-9oG4Yc_zeuY18J7BMLwKPQYGcY09uhkaS122UT01KK1gCjHi0Uq-FtWGV0L7_dVlzb8Llg_09O0S9fg0Og4OiXeQTCUHo9R-HMfOkYNzcMR_EpG0pQjGnCVj-0bsDVLnZPqXSDxncDW3SefetXwLVak86_McNZlbES3CRiRQZELYDGpO9AYWgL_eR0iAlg-8LwZWUjz38AIdv3mHOKZs_4XK0ZQbMP1pUkeAw2OPAqPriOuofJVdd_7sj6lg5QWIxJRTdBfm12f8rKpSwHpE5x3IoS7uMazE2V3lf6nhEeBs2B4Hf0E_EjcGZL0fsgt-FwuLSjMRiksEgnwdyI1yNuE5_KR_h-rmjIHhdSPc1E9BsFYDBcQtpAjJ5Q6WYZABtuFWBRomtEPndHsAx7K0deGtCRzrZPBQ70rN57PbFs_XMZPREdqUjXRkxleuB6NOGGFRY5-TwNGRrEfsmThxCU2XDag1TL0D-w=s64",
      "userId": "16390917540151948122"
     },
     "user_tz": -330
    },
    "id": "IeX0-BBoyxsw"
   },
   "outputs": [],
   "source": [
    "dataset = pd.read_csv('Big Basket.com Cart Apriori.csv', header = None)\n",
    "transactions = []\n",
    "\n",
    "for i in range(0, 7219):\n",
    "  transactions.append([str(dataset.values[i,j]) for j in range(0, 20)])"
   ]
  },
  {
   "cell_type": "markdown",
   "metadata": {
    "id": "8REFJFGC0lRN"
   },
   "source": [
    "## Apriori Training on Dataset"
   ]
  },
  {
   "cell_type": "code",
   "execution_count": 5,
   "metadata": {
    "executionInfo": {
     "elapsed": 1010,
     "status": "ok",
     "timestamp": 1612777087013,
     "user": {
      "displayName": "Atulya Kaushik",
      "photoUrl": "https://lh3.googleusercontent.com/a-/AOh14GiGoMUld1WAL2QrfDVmi5WsaLDOwcyV2a_qA-mbNufLTn0UKvJ-dJUeJOaQ9LIV8V7rWjmnBiUSXCtUC3nTZ_uAPaJ9bY_3J36kZzKiSicOgNeKSNas6VUdB7gKnZ_SdQF612sufyOJEw8R_3XNy3_XB4W03rbqxPO2lVHkcT00Vd32jA6GVkNa_zoEcfC2gKJt_pJp9DaVDwyFyktGS0BYBtCVsZ5A4DJECYn5F7e94WdOgH3IfOvtaNJXaDLJwE04oDqRa6WwEuK-TbLCtvIwS3kBfi1zd8P-9oG4Yc_zeuY18J7BMLwKPQYGcY09uhkaS122UT01KK1gCjHi0Uq-FtWGV0L7_dVlzb8Llg_09O0S9fg0Og4OiXeQTCUHo9R-HMfOkYNzcMR_EpG0pQjGnCVj-0bsDVLnZPqXSDxncDW3SefetXwLVak86_McNZlbES3CRiRQZELYDGpO9AYWgL_eR0iAlg-8LwZWUjz38AIdv3mHOKZs_4XK0ZQbMP1pUkeAw2OPAqPriOuofJVdd_7sj6lg5QWIxJRTdBfm12f8rKpSwHpE5x3IoS7uMazE2V3lf6nhEeBs2B4Hf0E_EjcGZL0fsgt-FwuLSjMRiksEgnwdyI1yNuE5_KR_h-rmjIHhdSPc1E9BsFYDBcQtpAjJ5Q6WYZABtuFWBRomtEPndHsAx7K0deGtCRzrZPBQ70rN57PbFs_XMZPREdqUjXRkxleuB6NOGGFRY5-TwNGRrEfsmThxCU2XDag1TL0D-w=s64",
      "userId": "16390917540151948122"
     },
     "user_tz": -330
    },
    "id": "Cs6amFsNy4Ri"
   },
   "outputs": [],
   "source": [
    "from apyori import apriori\n",
    "rules = apriori(transactions = transactions, min_support = 0.003, min_confidence = 0.2, min_lift = 3, min_length = 2, max_length = 2)"
   ]
  },
  {
   "cell_type": "markdown",
   "metadata": {
    "id": "-Dw4Khi70u9g"
   },
   "source": [
    "## Visualizing"
   ]
  },
  {
   "cell_type": "markdown",
   "metadata": {
    "id": "LMakVn8pt7Fk"
   },
   "source": [
    "### Raw Results"
   ]
  },
  {
   "cell_type": "code",
   "execution_count": 6,
   "metadata": {
    "executionInfo": {
     "elapsed": 997,
     "status": "ok",
     "timestamp": 1612777089889,
     "user": {
      "displayName": "Atulya Kaushik",
      "photoUrl": "https://lh3.googleusercontent.com/a-/AOh14GiGoMUld1WAL2QrfDVmi5WsaLDOwcyV2a_qA-mbNufLTn0UKvJ-dJUeJOaQ9LIV8V7rWjmnBiUSXCtUC3nTZ_uAPaJ9bY_3J36kZzKiSicOgNeKSNas6VUdB7gKnZ_SdQF612sufyOJEw8R_3XNy3_XB4W03rbqxPO2lVHkcT00Vd32jA6GVkNa_zoEcfC2gKJt_pJp9DaVDwyFyktGS0BYBtCVsZ5A4DJECYn5F7e94WdOgH3IfOvtaNJXaDLJwE04oDqRa6WwEuK-TbLCtvIwS3kBfi1zd8P-9oG4Yc_zeuY18J7BMLwKPQYGcY09uhkaS122UT01KK1gCjHi0Uq-FtWGV0L7_dVlzb8Llg_09O0S9fg0Og4OiXeQTCUHo9R-HMfOkYNzcMR_EpG0pQjGnCVj-0bsDVLnZPqXSDxncDW3SefetXwLVak86_McNZlbES3CRiRQZELYDGpO9AYWgL_eR0iAlg-8LwZWUjz38AIdv3mHOKZs_4XK0ZQbMP1pUkeAw2OPAqPriOuofJVdd_7sj6lg5QWIxJRTdBfm12f8rKpSwHpE5x3IoS7uMazE2V3lf6nhEeBs2B4Hf0E_EjcGZL0fsgt-FwuLSjMRiksEgnwdyI1yNuE5_KR_h-rmjIHhdSPc1E9BsFYDBcQtpAjJ5Q6WYZABtuFWBRomtEPndHsAx7K0deGtCRzrZPBQ70rN57PbFs_XMZPREdqUjXRkxleuB6NOGGFRY5-TwNGRrEfsmThxCU2XDag1TL0D-w=s64",
      "userId": "16390917540151948122"
     },
     "user_tz": -330
    },
    "id": "UYvqw6qvy5J4"
   },
   "outputs": [],
   "source": [
    "results = list(rules)"
   ]
  },
  {
   "cell_type": "code",
   "execution_count": 7,
   "metadata": {
    "colab": {
     "base_uri": "https://localhost:8080/"
    },
    "executionInfo": {
     "elapsed": 976,
     "status": "ok",
     "timestamp": 1612777092012,
     "user": {
      "displayName": "Atulya Kaushik",
      "photoUrl": "https://lh3.googleusercontent.com/a-/AOh14GiGoMUld1WAL2QrfDVmi5WsaLDOwcyV2a_qA-mbNufLTn0UKvJ-dJUeJOaQ9LIV8V7rWjmnBiUSXCtUC3nTZ_uAPaJ9bY_3J36kZzKiSicOgNeKSNas6VUdB7gKnZ_SdQF612sufyOJEw8R_3XNy3_XB4W03rbqxPO2lVHkcT00Vd32jA6GVkNa_zoEcfC2gKJt_pJp9DaVDwyFyktGS0BYBtCVsZ5A4DJECYn5F7e94WdOgH3IfOvtaNJXaDLJwE04oDqRa6WwEuK-TbLCtvIwS3kBfi1zd8P-9oG4Yc_zeuY18J7BMLwKPQYGcY09uhkaS122UT01KK1gCjHi0Uq-FtWGV0L7_dVlzb8Llg_09O0S9fg0Og4OiXeQTCUHo9R-HMfOkYNzcMR_EpG0pQjGnCVj-0bsDVLnZPqXSDxncDW3SefetXwLVak86_McNZlbES3CRiRQZELYDGpO9AYWgL_eR0iAlg-8LwZWUjz38AIdv3mHOKZs_4XK0ZQbMP1pUkeAw2OPAqPriOuofJVdd_7sj6lg5QWIxJRTdBfm12f8rKpSwHpE5x3IoS7uMazE2V3lf6nhEeBs2B4Hf0E_EjcGZL0fsgt-FwuLSjMRiksEgnwdyI1yNuE5_KR_h-rmjIHhdSPc1E9BsFYDBcQtpAjJ5Q6WYZABtuFWBRomtEPndHsAx7K0deGtCRzrZPBQ70rN57PbFs_XMZPREdqUjXRkxleuB6NOGGFRY5-TwNGRrEfsmThxCU2XDag1TL0D-w=s64",
      "userId": "16390917540151948122"
     },
     "user_tz": -330
    },
    "id": "V8jUYqqduM3X",
    "outputId": "857b4bae-4a8c-409d-8b8b-aeb275975bc2"
   },
   "outputs": [
    {
     "data": {
      "text/plain": [
       "[RelationRecord(items=frozenset({'almonds', 'burgers'}), support=0.005402410306136584, ordered_statistics=[OrderedStatistic(items_base=frozenset({'almonds'}), items_add=frozenset({'burgers'}), confidence=0.26530612244897955, lift=3.0594966421073218)]),\n",
       " RelationRecord(items=frozenset({'buns', 'paneer'}), support=0.016068707577226764, ordered_statistics=[OrderedStatistic(items_base=frozenset({'buns'}), items_add=frozenset({'paneer'}), confidence=0.32402234636871513, lift=3.2852771326344867)]),\n",
       " RelationRecord(items=frozenset({'chicken', 'ginger garlic paste'}), support=0.004571270259038648, ordered_statistics=[OrderedStatistic(items_base=frozenset({'ginger garlic paste'}), items_add=frozenset({'chicken'}), confidence=0.29203539823008845, lift=4.791371681415929)]),\n",
       " RelationRecord(items=frozenset({'vegetable basket', 'fruit basket'}), support=0.0055409336473195734, ordered_statistics=[OrderedStatistic(items_base=frozenset({'fruit basket'}), items_add=frozenset({'vegetable basket'}), confidence=0.29411764705882354, lift=3.081618714249125)]),\n",
       " RelationRecord(items=frozenset({'olive oil', 'ginger garlic paste'}), support=0.003324560188391744, ordered_statistics=[OrderedStatistic(items_base=frozenset({'ginger garlic paste'}), items_add=frozenset({'olive oil'}), confidence=0.21238938053097342, lift=3.2346813039094875)]),\n",
       " RelationRecord(items=frozenset({'kissan puree', 'paneer'}), support=0.005402410306136584, ordered_statistics=[OrderedStatistic(items_base=frozenset({'kissan puree'}), items_add=frozenset({'paneer'}), confidence=0.3786407766990291, lift=3.8390558525144542)]),\n",
       " RelationRecord(items=frozenset({'maggi', 'pasta'}), support=0.0034630835295747335, ordered_statistics=[OrderedStatistic(items_base=frozenset({'pasta'}), items_add=frozenset({'maggi'}), confidence=0.24752475247524755, lift=3.4562498803071797)]),\n",
       " RelationRecord(items=frozenset({'pasta', 'mushroom'}), support=0.005402410306136584, ordered_statistics=[OrderedStatistic(items_base=frozenset({'pasta'}), items_add=frozenset({'mushroom'}), confidence=0.38613861386138615, lift=4.873312331233124)]),\n",
       " RelationRecord(items=frozenset({'pepper spray', 'mushroom'}), support=0.005817980329685552, ordered_statistics=[OrderedStatistic(items_base=frozenset({'pepper spray'}), items_add=frozenset({'mushroom'}), confidence=0.3021582733812949, lift=3.8134275796146295)]),\n",
       " RelationRecord(items=frozenset({'trolly bag', 'neckrest'}), support=0.0034630835295747335, ordered_statistics=[OrderedStatistic(items_base=frozenset({'neckrest'}), items_add=frozenset({'trolly bag'}), confidence=0.2717391304347826, lift=5.620873302603712)]),\n",
       " RelationRecord(items=frozenset({'olive oil', 'whole wheat pasta'}), support=0.007757307106247403, ordered_statistics=[OrderedStatistic(items_base=frozenset({'whole wheat pasta'}), items_add=frozenset({'olive oil'}), confidence=0.26666666666666666, lift=4.061322081575246)])]"
      ]
     },
     "execution_count": 7,
     "metadata": {},
     "output_type": "execute_result"
    }
   ],
   "source": [
    "results"
   ]
  },
  {
   "cell_type": "code",
   "execution_count": 16,
   "metadata": {
    "colab": {
     "base_uri": "https://localhost:8080/"
    },
    "executionInfo": {
     "elapsed": 1280,
     "status": "ok",
     "timestamp": 1612777095269,
     "user": {
      "displayName": "Atulya Kaushik",
      "photoUrl": "https://lh3.googleusercontent.com/a-/AOh14GiGoMUld1WAL2QrfDVmi5WsaLDOwcyV2a_qA-mbNufLTn0UKvJ-dJUeJOaQ9LIV8V7rWjmnBiUSXCtUC3nTZ_uAPaJ9bY_3J36kZzKiSicOgNeKSNas6VUdB7gKnZ_SdQF612sufyOJEw8R_3XNy3_XB4W03rbqxPO2lVHkcT00Vd32jA6GVkNa_zoEcfC2gKJt_pJp9DaVDwyFyktGS0BYBtCVsZ5A4DJECYn5F7e94WdOgH3IfOvtaNJXaDLJwE04oDqRa6WwEuK-TbLCtvIwS3kBfi1zd8P-9oG4Yc_zeuY18J7BMLwKPQYGcY09uhkaS122UT01KK1gCjHi0Uq-FtWGV0L7_dVlzb8Llg_09O0S9fg0Og4OiXeQTCUHo9R-HMfOkYNzcMR_EpG0pQjGnCVj-0bsDVLnZPqXSDxncDW3SefetXwLVak86_McNZlbES3CRiRQZELYDGpO9AYWgL_eR0iAlg-8LwZWUjz38AIdv3mHOKZs_4XK0ZQbMP1pUkeAw2OPAqPriOuofJVdd_7sj6lg5QWIxJRTdBfm12f8rKpSwHpE5x3IoS7uMazE2V3lf6nhEeBs2B4Hf0E_EjcGZL0fsgt-FwuLSjMRiksEgnwdyI1yNuE5_KR_h-rmjIHhdSPc1E9BsFYDBcQtpAjJ5Q6WYZABtuFWBRomtEPndHsAx7K0deGtCRzrZPBQ70rN57PbFs_XMZPREdqUjXRkxleuB6NOGGFRY5-TwNGRrEfsmThxCU2XDag1TL0D-w=s64",
      "userId": "16390917540151948122"
     },
     "user_tz": -330
    },
    "id": "u6Cz6_O0_y66",
    "outputId": "00a833ae-e3cd-4ae6-a84c-fe89e64365d5"
   },
   "outputs": [
    {
     "data": {
      "text/plain": [
       "'burgers'"
      ]
     },
     "execution_count": 16,
     "metadata": {},
     "output_type": "execute_result"
    }
   ],
   "source": [
    "tuple(results[0][0])[1]"
   ]
  },
  {
   "cell_type": "markdown",
   "metadata": {
    "id": "0Ir6DPsdumvX"
   },
   "source": [
    "### Proper Display"
   ]
  },
  {
   "cell_type": "code",
   "execution_count": 9,
   "metadata": {
    "executionInfo": {
     "elapsed": 1024,
     "status": "ok",
     "timestamp": 1612777109853,
     "user": {
      "displayName": "Atulya Kaushik",
      "photoUrl": "https://lh3.googleusercontent.com/a-/AOh14GiGoMUld1WAL2QrfDVmi5WsaLDOwcyV2a_qA-mbNufLTn0UKvJ-dJUeJOaQ9LIV8V7rWjmnBiUSXCtUC3nTZ_uAPaJ9bY_3J36kZzKiSicOgNeKSNas6VUdB7gKnZ_SdQF612sufyOJEw8R_3XNy3_XB4W03rbqxPO2lVHkcT00Vd32jA6GVkNa_zoEcfC2gKJt_pJp9DaVDwyFyktGS0BYBtCVsZ5A4DJECYn5F7e94WdOgH3IfOvtaNJXaDLJwE04oDqRa6WwEuK-TbLCtvIwS3kBfi1zd8P-9oG4Yc_zeuY18J7BMLwKPQYGcY09uhkaS122UT01KK1gCjHi0Uq-FtWGV0L7_dVlzb8Llg_09O0S9fg0Og4OiXeQTCUHo9R-HMfOkYNzcMR_EpG0pQjGnCVj-0bsDVLnZPqXSDxncDW3SefetXwLVak86_McNZlbES3CRiRQZELYDGpO9AYWgL_eR0iAlg-8LwZWUjz38AIdv3mHOKZs_4XK0ZQbMP1pUkeAw2OPAqPriOuofJVdd_7sj6lg5QWIxJRTdBfm12f8rKpSwHpE5x3IoS7uMazE2V3lf6nhEeBs2B4Hf0E_EjcGZL0fsgt-FwuLSjMRiksEgnwdyI1yNuE5_KR_h-rmjIHhdSPc1E9BsFYDBcQtpAjJ5Q6WYZABtuFWBRomtEPndHsAx7K0deGtCRzrZPBQ70rN57PbFs_XMZPREdqUjXRkxleuB6NOGGFRY5-TwNGRrEfsmThxCU2XDag1TL0D-w=s64",
      "userId": "16390917540151948122"
     },
     "user_tz": -330
    },
    "id": "r6WHhsQLuqXc"
   },
   "outputs": [],
   "source": [
    "def inspect(results):\n",
    "    product1         = [tuple(result[2][0][0])[0] for result in results]\n",
    "    product2         = [tuple(result[2][0][1])[0] for result in results]\n",
    "    supports    = [result[1] for result in results]\n",
    "    confidences = [result[2][0][2] for result in results]\n",
    "    lifts       = [result[2][0][3] for result in results]\n",
    "    return list(zip(product1, product2, supports, confidences, lifts))\n",
    "DataFrame_intelligence = pd.DataFrame(inspect(results), columns = ['product1', 'product1', 'Support', 'Confidence', 'Lift'])"
   ]
  },
  {
   "cell_type": "code",
   "execution_count": 10,
   "metadata": {
    "colab": {
     "base_uri": "https://localhost:8080/",
     "height": 390
    },
    "executionInfo": {
     "elapsed": 952,
     "status": "ok",
     "timestamp": 1612777122782,
     "user": {
      "displayName": "Atulya Kaushik",
      "photoUrl": "https://lh3.googleusercontent.com/a-/AOh14GiGoMUld1WAL2QrfDVmi5WsaLDOwcyV2a_qA-mbNufLTn0UKvJ-dJUeJOaQ9LIV8V7rWjmnBiUSXCtUC3nTZ_uAPaJ9bY_3J36kZzKiSicOgNeKSNas6VUdB7gKnZ_SdQF612sufyOJEw8R_3XNy3_XB4W03rbqxPO2lVHkcT00Vd32jA6GVkNa_zoEcfC2gKJt_pJp9DaVDwyFyktGS0BYBtCVsZ5A4DJECYn5F7e94WdOgH3IfOvtaNJXaDLJwE04oDqRa6WwEuK-TbLCtvIwS3kBfi1zd8P-9oG4Yc_zeuY18J7BMLwKPQYGcY09uhkaS122UT01KK1gCjHi0Uq-FtWGV0L7_dVlzb8Llg_09O0S9fg0Og4OiXeQTCUHo9R-HMfOkYNzcMR_EpG0pQjGnCVj-0bsDVLnZPqXSDxncDW3SefetXwLVak86_McNZlbES3CRiRQZELYDGpO9AYWgL_eR0iAlg-8LwZWUjz38AIdv3mHOKZs_4XK0ZQbMP1pUkeAw2OPAqPriOuofJVdd_7sj6lg5QWIxJRTdBfm12f8rKpSwHpE5x3IoS7uMazE2V3lf6nhEeBs2B4Hf0E_EjcGZL0fsgt-FwuLSjMRiksEgnwdyI1yNuE5_KR_h-rmjIHhdSPc1E9BsFYDBcQtpAjJ5Q6WYZABtuFWBRomtEPndHsAx7K0deGtCRzrZPBQ70rN57PbFs_XMZPREdqUjXRkxleuB6NOGGFRY5-TwNGRrEfsmThxCU2XDag1TL0D-w=s64",
      "userId": "16390917540151948122"
     },
     "user_tz": -330
    },
    "id": "9aj8wZy5uumr",
    "outputId": "e22d4272-b3a2-4029-ad47-e381d13192a8"
   },
   "outputs": [
    {
     "data": {
      "text/html": [
       "<div>\n",
       "<style scoped>\n",
       "    .dataframe tbody tr th:only-of-type {\n",
       "        vertical-align: middle;\n",
       "    }\n",
       "\n",
       "    .dataframe tbody tr th {\n",
       "        vertical-align: top;\n",
       "    }\n",
       "\n",
       "    .dataframe thead th {\n",
       "        text-align: right;\n",
       "    }\n",
       "</style>\n",
       "<table border=\"1\" class=\"dataframe\">\n",
       "  <thead>\n",
       "    <tr style=\"text-align: right;\">\n",
       "      <th></th>\n",
       "      <th>product1</th>\n",
       "      <th>product1</th>\n",
       "      <th>Support</th>\n",
       "      <th>Confidence</th>\n",
       "      <th>Lift</th>\n",
       "    </tr>\n",
       "  </thead>\n",
       "  <tbody>\n",
       "    <tr>\n",
       "      <th>0</th>\n",
       "      <td>almonds</td>\n",
       "      <td>burgers</td>\n",
       "      <td>0.005402</td>\n",
       "      <td>0.265306</td>\n",
       "      <td>3.059497</td>\n",
       "    </tr>\n",
       "    <tr>\n",
       "      <th>1</th>\n",
       "      <td>buns</td>\n",
       "      <td>paneer</td>\n",
       "      <td>0.016069</td>\n",
       "      <td>0.324022</td>\n",
       "      <td>3.285277</td>\n",
       "    </tr>\n",
       "    <tr>\n",
       "      <th>2</th>\n",
       "      <td>ginger garlic paste</td>\n",
       "      <td>chicken</td>\n",
       "      <td>0.004571</td>\n",
       "      <td>0.292035</td>\n",
       "      <td>4.791372</td>\n",
       "    </tr>\n",
       "    <tr>\n",
       "      <th>3</th>\n",
       "      <td>fruit basket</td>\n",
       "      <td>vegetable basket</td>\n",
       "      <td>0.005541</td>\n",
       "      <td>0.294118</td>\n",
       "      <td>3.081619</td>\n",
       "    </tr>\n",
       "    <tr>\n",
       "      <th>4</th>\n",
       "      <td>ginger garlic paste</td>\n",
       "      <td>olive oil</td>\n",
       "      <td>0.003325</td>\n",
       "      <td>0.212389</td>\n",
       "      <td>3.234681</td>\n",
       "    </tr>\n",
       "    <tr>\n",
       "      <th>5</th>\n",
       "      <td>kissan puree</td>\n",
       "      <td>paneer</td>\n",
       "      <td>0.005402</td>\n",
       "      <td>0.378641</td>\n",
       "      <td>3.839056</td>\n",
       "    </tr>\n",
       "    <tr>\n",
       "      <th>6</th>\n",
       "      <td>pasta</td>\n",
       "      <td>maggi</td>\n",
       "      <td>0.003463</td>\n",
       "      <td>0.247525</td>\n",
       "      <td>3.456250</td>\n",
       "    </tr>\n",
       "    <tr>\n",
       "      <th>7</th>\n",
       "      <td>pasta</td>\n",
       "      <td>mushroom</td>\n",
       "      <td>0.005402</td>\n",
       "      <td>0.386139</td>\n",
       "      <td>4.873312</td>\n",
       "    </tr>\n",
       "    <tr>\n",
       "      <th>8</th>\n",
       "      <td>pepper spray</td>\n",
       "      <td>mushroom</td>\n",
       "      <td>0.005818</td>\n",
       "      <td>0.302158</td>\n",
       "      <td>3.813428</td>\n",
       "    </tr>\n",
       "    <tr>\n",
       "      <th>9</th>\n",
       "      <td>neckrest</td>\n",
       "      <td>trolly bag</td>\n",
       "      <td>0.003463</td>\n",
       "      <td>0.271739</td>\n",
       "      <td>5.620873</td>\n",
       "    </tr>\n",
       "    <tr>\n",
       "      <th>10</th>\n",
       "      <td>whole wheat pasta</td>\n",
       "      <td>olive oil</td>\n",
       "      <td>0.007757</td>\n",
       "      <td>0.266667</td>\n",
       "      <td>4.061322</td>\n",
       "    </tr>\n",
       "  </tbody>\n",
       "</table>\n",
       "</div>"
      ],
      "text/plain": [
       "               product1          product1   Support  Confidence      Lift\n",
       "0               almonds           burgers  0.005402    0.265306  3.059497\n",
       "1                  buns            paneer  0.016069    0.324022  3.285277\n",
       "2   ginger garlic paste           chicken  0.004571    0.292035  4.791372\n",
       "3          fruit basket  vegetable basket  0.005541    0.294118  3.081619\n",
       "4   ginger garlic paste         olive oil  0.003325    0.212389  3.234681\n",
       "5          kissan puree            paneer  0.005402    0.378641  3.839056\n",
       "6                 pasta             maggi  0.003463    0.247525  3.456250\n",
       "7                 pasta          mushroom  0.005402    0.386139  4.873312\n",
       "8          pepper spray          mushroom  0.005818    0.302158  3.813428\n",
       "9              neckrest        trolly bag  0.003463    0.271739  5.620873\n",
       "10    whole wheat pasta         olive oil  0.007757    0.266667  4.061322"
      ]
     },
     "execution_count": 10,
     "metadata": {},
     "output_type": "execute_result"
    }
   ],
   "source": [
    "DataFrame_intelligence"
   ]
  },
  {
   "cell_type": "code",
   "execution_count": 11,
   "metadata": {
    "colab": {
     "base_uri": "https://localhost:8080/",
     "height": 359
    },
    "executionInfo": {
     "elapsed": 953,
     "status": "ok",
     "timestamp": 1612537620866,
     "user": {
      "displayName": "Atulya Kaushik",
      "photoUrl": "https://lh3.googleusercontent.com/a-/AOh14GjauSfl8A79iEupwYRxQZ4fl6ckKyQ6vyjS_M4AV53w9DoSsuap-9T2ntUtwYZej8GGJx_dMgReUWmjYNU8ptIX2N1axxZqrPEeE3kx5kFI9s2FqvrG2yeyCmwTFRs6Z0in0so5WUTECECu5fW3u0y6ernLULE01-QhpqvmZXkhjfWl-dPgk1nUhqItHpyoufEUSbGxRfdD7XqZzaB78WGP_v66HeM4o_fzbuwGJS8e8HWktCs_TXD62pjn_bCjNfV2QFjex8RlJ2g76zAJCP24lD0KGmE85csiFL7Em3TdkVZY8_QvqjRT3b6MXprS9C_Xj0YYUm9N0lyr3bUU0rV74xsbSsZQbRX2ihLlEeliGLFG4byui70BJlyYaDBZUI3f5Bj1yNRqIcgxj0v-G2LzCZi1dX_y4uYzLzbaCMFqN8lDc1airJOLzJCiRMSt2JtPYELnqtQGMdBYCnmyvEJ5Kni-i9VexHAxhHe7Ir7w81NVuB24YzmgDbphLMRXs1IWqPwnF4gR03YeuCM94vwhty-7BW6XPZZ6byqnSdYDn0hf67N72f9iBP3H2cpXLkdDWBTehoF2poi9O3ubGbIcubxL6gOehKB2U4MlRcpL_z4zGGsfkFNtBX4a6CPx8UGMnY2mlgWsgEf7TtGSyxYe4L99B8b5SAD0hohJQGhZzKHIBuOaAM7uYynV3wfSnHBHD3PqF3mfnvgMkndvXWhDGf8DeVVPu3BDv0nR9rG_lqe4RxvtJad7iN5d01WhFtpG1g=s64",
      "userId": "16390917540151948122"
     },
     "user_tz": -330
    },
    "id": "VkM6Mt6ouzxh",
    "outputId": "8fc4966e-d4b5-4fd0-e743-1e9c96e0b98f"
   },
   "outputs": [
    {
     "data": {
      "text/html": [
       "<div>\n",
       "<style scoped>\n",
       "    .dataframe tbody tr th:only-of-type {\n",
       "        vertical-align: middle;\n",
       "    }\n",
       "\n",
       "    .dataframe tbody tr th {\n",
       "        vertical-align: top;\n",
       "    }\n",
       "\n",
       "    .dataframe thead th {\n",
       "        text-align: right;\n",
       "    }\n",
       "</style>\n",
       "<table border=\"1\" class=\"dataframe\">\n",
       "  <thead>\n",
       "    <tr style=\"text-align: right;\">\n",
       "      <th></th>\n",
       "      <th>product1</th>\n",
       "      <th>product1</th>\n",
       "      <th>Support</th>\n",
       "      <th>Confidence</th>\n",
       "      <th>Lift</th>\n",
       "    </tr>\n",
       "  </thead>\n",
       "  <tbody>\n",
       "    <tr>\n",
       "      <th>9</th>\n",
       "      <td>neckrest</td>\n",
       "      <td>trolly bag</td>\n",
       "      <td>0.003463</td>\n",
       "      <td>0.271739</td>\n",
       "      <td>5.620873</td>\n",
       "    </tr>\n",
       "    <tr>\n",
       "      <th>7</th>\n",
       "      <td>pasta</td>\n",
       "      <td>mushroom</td>\n",
       "      <td>0.005402</td>\n",
       "      <td>0.386139</td>\n",
       "      <td>4.873312</td>\n",
       "    </tr>\n",
       "    <tr>\n",
       "      <th>2</th>\n",
       "      <td>ginger garlic paste</td>\n",
       "      <td>chicken</td>\n",
       "      <td>0.004571</td>\n",
       "      <td>0.292035</td>\n",
       "      <td>4.791372</td>\n",
       "    </tr>\n",
       "    <tr>\n",
       "      <th>10</th>\n",
       "      <td>whole wheat pasta</td>\n",
       "      <td>olive oil</td>\n",
       "      <td>0.007757</td>\n",
       "      <td>0.266667</td>\n",
       "      <td>4.061322</td>\n",
       "    </tr>\n",
       "    <tr>\n",
       "      <th>5</th>\n",
       "      <td>kissan puree</td>\n",
       "      <td>paneer</td>\n",
       "      <td>0.005402</td>\n",
       "      <td>0.378641</td>\n",
       "      <td>3.839056</td>\n",
       "    </tr>\n",
       "    <tr>\n",
       "      <th>8</th>\n",
       "      <td>pepper spray</td>\n",
       "      <td>mushroom</td>\n",
       "      <td>0.005818</td>\n",
       "      <td>0.302158</td>\n",
       "      <td>3.813428</td>\n",
       "    </tr>\n",
       "    <tr>\n",
       "      <th>6</th>\n",
       "      <td>pasta</td>\n",
       "      <td>maggi</td>\n",
       "      <td>0.003463</td>\n",
       "      <td>0.247525</td>\n",
       "      <td>3.456250</td>\n",
       "    </tr>\n",
       "    <tr>\n",
       "      <th>1</th>\n",
       "      <td>buns</td>\n",
       "      <td>paneer</td>\n",
       "      <td>0.016069</td>\n",
       "      <td>0.324022</td>\n",
       "      <td>3.285277</td>\n",
       "    </tr>\n",
       "    <tr>\n",
       "      <th>4</th>\n",
       "      <td>ginger garlic paste</td>\n",
       "      <td>olive oil</td>\n",
       "      <td>0.003325</td>\n",
       "      <td>0.212389</td>\n",
       "      <td>3.234681</td>\n",
       "    </tr>\n",
       "    <tr>\n",
       "      <th>3</th>\n",
       "      <td>fruit basket</td>\n",
       "      <td>vegetable basket</td>\n",
       "      <td>0.005541</td>\n",
       "      <td>0.294118</td>\n",
       "      <td>3.081619</td>\n",
       "    </tr>\n",
       "  </tbody>\n",
       "</table>\n",
       "</div>"
      ],
      "text/plain": [
       "               product1          product1   Support  Confidence      Lift\n",
       "9              neckrest        trolly bag  0.003463    0.271739  5.620873\n",
       "7                 pasta          mushroom  0.005402    0.386139  4.873312\n",
       "2   ginger garlic paste           chicken  0.004571    0.292035  4.791372\n",
       "10    whole wheat pasta         olive oil  0.007757    0.266667  4.061322\n",
       "5          kissan puree            paneer  0.005402    0.378641  3.839056\n",
       "8          pepper spray          mushroom  0.005818    0.302158  3.813428\n",
       "6                 pasta             maggi  0.003463    0.247525  3.456250\n",
       "1                  buns            paneer  0.016069    0.324022  3.285277\n",
       "4   ginger garlic paste         olive oil  0.003325    0.212389  3.234681\n",
       "3          fruit basket  vegetable basket  0.005541    0.294118  3.081619"
      ]
     },
     "execution_count": 11,
     "metadata": {},
     "output_type": "execute_result"
    }
   ],
   "source": [
    "DataFrame_intelligence.nlargest(n = 10, columns = 'Lift')"
   ]
  },
  {
   "cell_type": "code",
   "execution_count": null,
   "metadata": {},
   "outputs": [],
   "source": []
  }
 ],
 "metadata": {
  "colab": {
   "authorship_tag": "ABX9TyP/EsEwmylpLtplkEcUeUEP",
   "name": "Apriori Association Rule Learning Working Copy.ipynb",
   "provenance": [],
   "toc_visible": true
  },
  "kernelspec": {
   "display_name": "Python 3 (ipykernel)",
   "language": "python",
   "name": "python3"
  },
  "language_info": {
   "codemirror_mode": {
    "name": "ipython",
    "version": 3
   },
   "file_extension": ".py",
   "mimetype": "text/x-python",
   "name": "python",
   "nbconvert_exporter": "python",
   "pygments_lexer": "ipython3",
   "version": "3.9.7"
  }
 },
 "nbformat": 4,
 "nbformat_minor": 1
}
